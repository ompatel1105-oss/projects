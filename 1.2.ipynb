{
 "cells": [
  {
   "cell_type": "code",
   "execution_count": 1,
   "id": "e54d549b-4f9a-4067-9ab8-58bb374bf81b",
   "metadata": {},
   "outputs": [],
   "source": [
    "#code1"
   ]
  },
  {
   "cell_type": "code",
   "execution_count": 2,
   "id": "e737a649-a4de-4a77-9e33-c064c2abc79a",
   "metadata": {},
   "outputs": [
    {
     "name": "stdout",
     "output_type": "stream",
     "text": [
      "Hello-World!\n"
     ]
    }
   ],
   "source": [
    "print(\"Hello\", \"World\", sep=\"-\", end=\"!\\n\")\n"
   ]
  },
  {
   "cell_type": "code",
   "execution_count": 3,
   "id": "62281df2-4fca-4170-834b-59d5ee132a31",
   "metadata": {},
   "outputs": [],
   "source": [
    "#code2"
   ]
  },
  {
   "cell_type": "code",
   "execution_count": 4,
   "id": "06103a60-4a23-45c2-8129-6aa7e4838c56",
   "metadata": {},
   "outputs": [
    {
     "name": "stdin",
     "output_type": "stream",
     "text": [
      "Enter your name:  om\n",
      "Enter your age:  19\n",
      "Enter your hobby:  gaming\n"
     ]
    },
    {
     "name": "stdout",
     "output_type": "stream",
     "text": [
      "Hello, {name}! At {age}, enjoying {hobby} sounds fun!\n"
     ]
    }
   ],
   "source": [
    "name = input(\"Enter your name: \")\n",
    "age = input(\"Enter your age: \")\n",
    "hobby = input(\"Enter your hobby: \")\n",
    "print(\"Hello, {name}! At {age}, enjoying {hobby} sounds fun!\")\n"
   ]
  },
  {
   "cell_type": "code",
   "execution_count": 5,
   "id": "3dff92ce-a741-4b1b-b6d3-5bf31c3d3862",
   "metadata": {},
   "outputs": [],
   "source": [
    "#coded3"
   ]
  },
  {
   "cell_type": "code",
   "execution_count": 6,
   "id": "fd0640ac-9690-4665-bd71-52252b59565c",
   "metadata": {},
   "outputs": [
    {
     "name": "stdin",
     "output_type": "stream",
     "text": [
      "Enter first number:  11\n",
      "Enter second number:  22\n"
     ]
    },
    {
     "name": "stdout",
     "output_type": "stream",
     "text": [
      "Add: 33\n",
      "Sub: -11\n",
      "Mul: 242\n",
      "Div: 0.5\n",
      "Floor Div: 0\n",
      "Modulus: 11\n",
      "Power: 81402749386839761113321\n"
     ]
    }
   ],
   "source": [
    "a = int(input(\"Enter first number: \"))\n",
    "b = int(input(\"Enter second number: \"))\n",
    "print(\"Add:\", a + b)\n",
    "print(\"Sub:\", a - b)\n",
    "print(\"Mul:\", a * b)\n",
    "print(\"Div:\", a / b)\n",
    "print(\"Floor Div:\", a // b)\n",
    "print(\"Modulus:\", a % b)\n",
    "print(\"Power:\", a ** b)\n"
   ]
  },
  {
   "cell_type": "code",
   "execution_count": 7,
   "id": "462d0dbc-0fb7-435c-9ec6-ef807ef5a5d6",
   "metadata": {},
   "outputs": [],
   "source": [
    "#code4"
   ]
  },
  {
   "cell_type": "code",
   "execution_count": 1,
   "id": "60fc1beb-89b5-48b9-a0d9-e8bf9dd2e328",
   "metadata": {},
   "outputs": [
    {
     "name": "stdout",
     "output_type": "stream",
     "text": [
      "10 <class 'int'>\n",
      "3.14 <class 'float'>\n",
      "Hello sir <class 'str'>\n",
      "True <class 'bool'>\n",
      "(2+3j) <class 'complex'>\n"
     ]
    }
   ],
   "source": [
    "x = 10\n",
    "y = 3.14\n",
    "z = \"Hello sir\"\n",
    "b = True\n",
    "c = 2 + 3j\n",
    "\n",
    "print(x, type(x))\n",
    "print(y, type(y))\n",
    "print(z, type(z))\n",
    "print(b, type(b))\n",
    "print(c, type(c))\n"
   ]
  },
  {
   "cell_type": "code",
   "execution_count": 2,
   "id": "595de7ad-c39b-496c-9ec6-383cb5f1cddc",
   "metadata": {},
   "outputs": [],
   "source": [
    "#code5"
   ]
  },
  {
   "cell_type": "code",
   "execution_count": 6,
   "id": "9bd472b2-91ec-470f-8730-c857aa50eaf7",
   "metadata": {},
   "outputs": [
    {
     "name": "stdin",
     "output_type": "stream",
     "text": [
      "Enter your height (in cm):  5.7\n",
      "Enter your weight (in kg):  72\n"
     ]
    }
   ],
   "source": [
    "height = float(input(\"Enter your height (in cm): \"))\n",
    "weight = float(input(\"Enter your weight (in kg): \"))\n",
    "\n",
    "\n"
   ]
  },
  {
   "cell_type": "code",
   "execution_count": 11,
   "id": "4522e50e-6818-4245-bb02-8f503c426621",
   "metadata": {},
   "outputs": [],
   "source": [
    "#code6"
   ]
  },
  {
   "cell_type": "code",
   "execution_count": 21,
   "id": "3eac2037-0262-4448-8d58-65db3bca25c1",
   "metadata": {},
   "outputs": [
    {
     "name": "stdin",
     "output_type": "stream",
     "text": [
      "Enter True or False for A:  true\n",
      "Enter True or False for B:  true\n"
     ]
    },
    {
     "name": "stdout",
     "output_type": "stream",
     "text": [
      "A and B: False\n",
      "A or B: False\n",
      "not A: True\n"
     ]
    }
   ],
   "source": [
    "\n",
    "a = input(\"Enter True or False for A: \") == \"True\"\n",
    "b = input(\"Enter True or False for B: \") == \"True\"\n",
    "\n",
    "\n",
    "print(\"A and B:\", a and b)\n",
    "print(\"A or B:\", a or b)\n",
    "print(\"not A:\", not a)\n"
   ]
  },
  {
   "cell_type": "code",
   "execution_count": 22,
   "id": "c29bb918-00c3-4717-bd0e-84cc2a44c8a1",
   "metadata": {},
   "outputs": [],
   "source": [
    "#code7"
   ]
  },
  {
   "cell_type": "code",
   "execution_count": null,
   "id": "3c808800-72f7-417d-9c1b-6fe993049297",
   "metadata": {},
   "outputs": [],
   "source": []
  }
 ],
 "metadata": {
  "kernelspec": {
   "display_name": "Python [conda env:base] *",
   "language": "python",
   "name": "conda-base-py"
  },
  "language_info": {
   "codemirror_mode": {
    "name": "ipython",
    "version": 3
   },
   "file_extension": ".py",
   "mimetype": "text/x-python",
   "name": "python",
   "nbconvert_exporter": "python",
   "pygments_lexer": "ipython3",
   "version": "3.13.5"
  }
 },
 "nbformat": 4,
 "nbformat_minor": 5
}
