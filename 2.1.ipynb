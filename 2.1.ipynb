{
 "cells": [
  {
   "cell_type": "code",
   "execution_count": 2,
   "id": "70d2ea97-8e4b-470e-9f86-cb127bd4028f",
   "metadata": {},
   "outputs": [],
   "source": [
    "#code 1"
   ]
  },
  {
   "cell_type": "code",
   "execution_count": 3,
   "id": "2d1a9eea-86ae-42c9-954e-244972ff0fa3",
   "metadata": {},
   "outputs": [
    {
     "name": "stdin",
     "output_type": "stream",
     "text": [
      "Enter a number:  11\n"
     ]
    },
    {
     "name": "stdout",
     "output_type": "stream",
     "text": [
      "Odd\n"
     ]
    }
   ],
   "source": [
    "n = int(input(\"Enter a number: \"))\n",
    "if n % 2 == 0:\n",
    "    print(\"Even\")\n",
    "else:\n",
    "    print(\"Odd\")\n"
   ]
  },
  {
   "cell_type": "code",
   "execution_count": 4,
   "id": "67ff84c1-b3b8-485f-87d7-14921d6a1268",
   "metadata": {},
   "outputs": [],
   "source": [
    "#code 2"
   ]
  },
  {
   "cell_type": "code",
   "execution_count": 5,
   "id": "3613fcdb-8120-4365-a249-9e77ec347cac",
   "metadata": {},
   "outputs": [
    {
     "name": "stdin",
     "output_type": "stream",
     "text": [
      "Enter your age:  19\n"
     ]
    },
    {
     "name": "stdout",
     "output_type": "stream",
     "text": [
      "Teenager\n"
     ]
    }
   ],
   "source": [
    "age = int(input(\"Enter your age: \"))\n",
    "\n",
    "if age <= 12:\n",
    "    print(\"Child\")\n",
    "else:\n",
    "    if age <= 19:\n",
    "        print(\"Teenager\")\n",
    "    else:\n",
    "        if age <= 59:\n",
    "            print(\"Adult\")\n",
    "        else:\n",
    "            print(\"Senior\")\n"
   ]
  },
  {
   "cell_type": "code",
   "execution_count": 1,
   "id": "240066b4-69d8-4e61-8a5d-d9b83598a913",
   "metadata": {},
   "outputs": [],
   "source": [
    "#code3"
   ]
  },
  {
   "cell_type": "code",
   "execution_count": 10,
   "id": "493b78c1-6a57-4f60-b1a2-28dc6a2eb53e",
   "metadata": {},
   "outputs": [
    {
     "name": "stdin",
     "output_type": "stream",
     "text": [
      "Enter a number:  11\n"
     ]
    },
    {
     "name": "stdout",
     "output_type": "stream",
     "text": [
      "Positive\n"
     ]
    }
   ],
   "source": [
    "n = int(input(\"Enter a number: \"))\n",
    "\n",
    "if n == 0:\n",
    "    print(\"Neutral\")\n",
    "elif n > 0:\n",
    "    print(\"Positive\")\n",
    "else:\n",
    "    print(\"Negative\")\n"
   ]
  },
  {
   "cell_type": "code",
   "execution_count": 4,
   "id": "3b5211b6-7e6d-4366-9596-a88e1726b958",
   "metadata": {},
   "outputs": [],
   "source": [
    "#code4"
   ]
  },
  {
   "cell_type": "code",
   "execution_count": 5,
   "id": "178fae58-e111-4bd4-92ed-84578340e326",
   "metadata": {},
   "outputs": [
    {
     "name": "stdin",
     "output_type": "stream",
     "text": [
      "Enter a number:  11\n"
     ]
    },
    {
     "name": "stdout",
     "output_type": "stream",
     "text": [
      "Positive number\n"
     ]
    }
   ],
   "source": [
    "num = int(input(\"Enter a number: \"))\n",
    "\n",
    "if num == 0:\n",
    "    print(\"Neutral number\")\n",
    "elif num > 0:\n",
    "    print(\"Positive number\")\n",
    "else:\n",
    "    print(\"Negative number\")\n"
   ]
  },
  {
   "cell_type": "code",
   "execution_count": null,
   "id": "fd8d231b-f7c3-422f-8e1b-ee6fe99d74a0",
   "metadata": {},
   "outputs": [],
   "source": []
  }
 ],
 "metadata": {
  "kernelspec": {
   "display_name": "Python [conda env:base] *",
   "language": "python",
   "name": "conda-base-py"
  },
  "language_info": {
   "codemirror_mode": {
    "name": "ipython",
    "version": 3
   },
   "file_extension": ".py",
   "mimetype": "text/x-python",
   "name": "python",
   "nbconvert_exporter": "python",
   "pygments_lexer": "ipython3",
   "version": "3.13.5"
  }
 },
 "nbformat": 4,
 "nbformat_minor": 5
}
