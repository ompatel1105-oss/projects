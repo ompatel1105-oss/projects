{
 "cells": [
  {
   "cell_type": "code",
   "execution_count": 2,
   "id": "c2049ca0-3de7-4e7f-bcf3-a6116f9eb3c5",
   "metadata": {},
   "outputs": [
    {
     "name": "stdout",
     "output_type": "stream",
     "text": [
      "\n",
      "===== Student Data Organizer =====\n",
      "1. Add Student\n",
      "2. Display All Students\n",
      "3. Update Student Information\n",
      "4. Delete Student\n",
      "5. Display Subjects Offered\n",
      "6. Exit\n",
      "==================================\n"
     ]
    },
    {
     "name": "stdin",
     "output_type": "stream",
     "text": [
      "Enter your choice:  1\n",
      "Enter Student ID:  11\n",
      "Enter Name:  om\n",
      "Enter Age:  16\n",
      "Enter Grade:  aa\n",
      "Enter Date of Birth (YYYY-MM-DD):  11 5 2006\n",
      "Enter Subjects (comma-separated):  py\n"
     ]
    },
    {
     "name": "stdout",
     "output_type": "stream",
     "text": [
      "Student added successfully!\n",
      "\n",
      "\n",
      "===== Student Data Organizer =====\n",
      "1. Add Student\n",
      "2. Display All Students\n",
      "3. Update Student Information\n",
      "4. Delete Student\n",
      "5. Display Subjects Offered\n",
      "6. Exit\n",
      "==================================\n"
     ]
    },
    {
     "name": "stdin",
     "output_type": "stream",
     "text": [
      "Enter your choice:  2\n"
     ]
    },
    {
     "name": "stdout",
     "output_type": "stream",
     "text": [
      "\n",
      "--- Display All Students ---\n",
      "ID: 11 | Name: om | Age: 16 | Grade: aa | DOB: 11 5 2006 | Subjects: py\n",
      "\n",
      "\n",
      "===== Student Data Organizer =====\n",
      "1. Add Student\n",
      "2. Display All Students\n",
      "3. Update Student Information\n",
      "4. Delete Student\n",
      "5. Display Subjects Offered\n",
      "6. Exit\n",
      "==================================\n"
     ]
    },
    {
     "name": "stdin",
     "output_type": "stream",
     "text": [
      "Enter your choice:  6\n"
     ]
    },
    {
     "name": "stdout",
     "output_type": "stream",
     "text": [
      "Thank you for using Student Data Organizer!\n"
     ]
    }
   ],
   "source": [
    "\n",
    "\n",
    "students = []\n",
    "subjects_offered = set()\n",
    "\n",
    "while True:\n",
    "    print(\"\\n===== Student Data Organizer =====\")\n",
    "    print(\"1. Add Student\")\n",
    "    print(\"2. Display All Students\")\n",
    "    print(\"3. Update Student Information\")\n",
    "    print(\"4. Delete Student\")\n",
    "    print(\"5. Display Subjects Offered\")\n",
    "    print(\"6. Exit\")\n",
    "    print(\"==================================\")\n",
    "\n",
    "    choice = input(\"Enter your choice: \")\n",
    "\n",
    "    \n",
    "    if choice == \"1\":\n",
    "        student_id = int(input(\"Enter Student ID: \"))\n",
    "\n",
    "        # Prevent duplicate student IDs\n",
    "        duplicate = False\n",
    "        for record in students:\n",
    "            if record[\"ID\"] == student_id:\n",
    "                print(\"Error: Student ID already exists!\\n\")\n",
    "                duplicate = True\n",
    "                break\n",
    "        if duplicate:\n",
    "            continue\n",
    "\n",
    "        name = input(\"Enter Name: \")\n",
    "        age = int(input(\"Enter Age: \"))\n",
    "        grade = input(\"Enter Grade: \")\n",
    "        dob = input(\"Enter Date of Birth (YYYY-MM-DD): \")\n",
    "        subjects = [sub.strip() for sub in input(\"Enter Subjects (comma-separated): \").split(\",\")]\n",
    "\n",
    "        \n",
    "        for sub in subjects:\n",
    "            subjects_offered.add(sub)\n",
    "\n",
    "        \n",
    "        student = {\n",
    "            \"ID\": student_id,\n",
    "            \"Name\": name,\n",
    "            \"Age\": age,\n",
    "            \"Grade\": grade,\n",
    "            \"DOB\": dob,\n",
    "            \"Subjects\": subjects\n",
    "        }\n",
    "        students.append(student)\n",
    "        print(\"Student added successfully!\\n\")\n",
    "\n",
    "   \n",
    "    elif choice == \"2\":\n",
    "        if not students:\n",
    "            print(\"No student records found.\\n\")\n",
    "        else:\n",
    "            print(\"\\n--- Display All Students ---\")\n",
    "            for student in students:\n",
    "                print(f\"ID: {student['ID']} | Name: {student['Name']} | Age: {student['Age']} | \"\n",
    "                      f\"Grade: {student['Grade']} | DOB: {student['DOB']} | Subjects: {', '.join(student['Subjects'])}\")\n",
    "            print()\n",
    "\n",
    "  \n",
    "    elif choice == \"3\":\n",
    "        sid = int(input(\"Enter Student ID to update: \"))\n",
    "        found = False\n",
    "        for student in students:\n",
    "            if student[\"ID\"] == sid:\n",
    "                found = True\n",
    "                student[\"Age\"] = int(input(\"Enter new Age: \"))\n",
    "                new_subjects = [sub.strip() for sub in input(\"Enter new Subjects (comma-separated): \").split(\",\")]\n",
    "                student[\"Subjects\"] = new_subjects\n",
    "                for sub in new_subjects:\n",
    "                    subjects_offered.add(sub)\n",
    "                print(\"Student record updated!\\n\")\n",
    "                break\n",
    "        if not found:\n",
    "            print(\"Student ID not found.\\n\")\n",
    "\n",
    "   \n",
    "    elif choice == \"4\":\n",
    "        sid = int(input(\"Enter Student ID to delete: \"))\n",
    "        deleted = False\n",
    "        for i, student in enumerate(students):\n",
    "            if student[\"ID\"] == sid:\n",
    "                del students[i]\n",
    "                deleted = True\n",
    "                print(\"Student deleted successfully!\\n\")\n",
    "                break\n",
    "        if not deleted:\n",
    "            print(\"Student ID not found.\\n\")\n",
    "\n",
    "    \n",
    "    elif choice == \"5\":\n",
    "        if subjects_offered:\n",
    "            print(\"Unique Subjects Offered:\", \", \".join(subjects_offered), \"\\n\")\n",
    "        else:\n",
    "            print(\"No subjects found.\\n\")\n",
    "\n",
    "    \n",
    "    elif choice == \"6\":\n",
    "        print(\"Thank you for using Student Data Organizer!\")\n",
    "        break\n",
    "\n",
    "   \n",
    "    else:\n",
    "        print(\"Invalid choice! Please try again.\\n\")\n",
    "\n"
   ]
  },
  {
   "cell_type": "code",
   "execution_count": null,
   "id": "8283b079-84e8-433c-91e3-596429bdf5ec",
   "metadata": {},
   "outputs": [],
   "source": []
  }
 ],
 "metadata": {
  "kernelspec": {
   "display_name": "Python [conda env:base] *",
   "language": "python",
   "name": "conda-base-py"
  },
  "language_info": {
   "codemirror_mode": {
    "name": "ipython",
    "version": 3
   },
   "file_extension": ".py",
   "mimetype": "text/x-python",
   "name": "python",
   "nbconvert_exporter": "python",
   "pygments_lexer": "ipython3",
   "version": "3.13.5"
  }
 },
 "nbformat": 4,
 "nbformat_minor": 5
}
