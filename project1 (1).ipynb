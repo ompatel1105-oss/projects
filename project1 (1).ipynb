{
 "cells": [
  {
   "cell_type": "code",
   "execution_count": null,
   "id": "b341b9fc-4e78-417e-b512-b93cfbd43ef9",
   "metadata": {},
   "outputs": [
    {
     "name": "stdout",
     "output_type": "stream",
     "text": [
      "Welcome to the Interactive Personal Data Collector!\n",
      "\n"
     ]
    },
    {
     "name": "stdin",
     "output_type": "stream",
     "text": [
      "Please enter your name:  om\n"
     ]
    }
   ],
   "source": [
    "print(\"Welcome to the Interactive Personal Data Collector!\\n\")\n",
    "\n",
    "\n",
    "name = input(\"Please enter your name: \")\n",
    "age = int(input(\"Please enter your age: \"))\n",
    "height = float(input(\"Please enter your height in meters: \"))\n",
    "favourite_number = int(input(\"Please enter your favourite number: \"))\n",
    "\n",
    "print(\"\\nThank you! Here is the information we collected:\\n\")\n",
    "\n",
    "\n",
    "print(f\"Name: {name} (Type: {type(name)}, Memory Address: {id(name)})\")\n",
    "print(f\"Age: {age} (Type: {type(age)}, Memory Address: {id(age)})\")\n",
    "print(f\"Height: {height} (Type: {type(height)}, Memory Address: {id(height)})\")\n",
    "print(f\"Favourite Number: {favourite_number} (Type: {type(favourite_number)}, Memory Address: {id(favourite_number)})\")\n",
    "\n",
    "\n",
    "current_year = 2023 \n",
    "birth_year = current_year - age\n",
    "print(f\"\\nYour birth year is approximately: {birth_year} (based on your age of {age})\")\n",
    "\n",
    "print(\"\\nThank you for using the Personal Data Collector. Goodbye!\")"
   ]
  },
  {
   "cell_type": "code",
   "execution_count": null,
   "id": "956a9db9-085e-4984-b080-84ff734242fe",
   "metadata": {},
   "outputs": [],
   "source": [
    "\n",
    "name = input(\"Enter your name: \")\n",
    "age = int(input(\"Enter your age: \"))            \n",
    "height = float(input(\"Enter your height (in cm): \"))  \n",
    "fav_num = int(input(\"Enter your favourite number: \"))\n",
    "\n",
    "\n",
    "birth_year = 2025 - age\n",
    "\n",
    "\n",
    "print(f\"\\nHi {name}, you are {age} years old, {height} cm tall, and love the number {fav_num}.\")\n",
    "print(f\"You were born in {birth_year}.\\n\")\n",
    "\n",
    "\n",
    "variables = {\n",
    "    \"Name\": name,\n",
    "    \"Age\": age,\n",
    "    \"Height\": height,\n",
    "    \"Favourite Number\": fav_num,\n",
    "    \"Birth Year\": birth_year\n",
    "}\n",
    "\n",
    "print(\"Variable Summary:\")\n",
    "for var_name, value in variables.items():\n",
    "    print(f\"{var_name}: Value = {value}, Type = {type(value)}, Address = {id(value)}\")\n"
   ]
  },
  {
   "cell_type": "code",
   "execution_count": null,
   "id": "f1178b55-285e-4793-9888-7fb3993a7ff5",
   "metadata": {},
   "outputs": [],
   "source": []
  }
 ],
 "metadata": {
  "kernelspec": {
   "display_name": "Python [conda env:base] *",
   "language": "python",
   "name": "conda-base-py"
  },
  "language_info": {
   "codemirror_mode": {
    "name": "ipython",
    "version": 3
   },
   "file_extension": ".py",
   "mimetype": "text/x-python",
   "name": "python",
   "nbconvert_exporter": "python",
   "pygments_lexer": "ipython3",
   "version": "3.13.5"
  }
 },
 "nbformat": 4,
 "nbformat_minor": 5
}
