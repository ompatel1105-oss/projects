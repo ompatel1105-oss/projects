{
 "cells": [
  {
   "cell_type": "code",
   "execution_count": 1,
   "id": "956a9db9-085e-4984-b080-84ff734242fe",
   "metadata": {},
   "outputs": [
    {
     "ename": "IndentationError",
     "evalue": "unexpected indent (467585175.py, line 11)",
     "output_type": "error",
     "traceback": [
      "\u001b[1;36m  Cell \u001b[1;32mIn[1], line 11\u001b[1;36m\u001b[0m\n\u001b[1;33m    \"Name\": name,\u001b[0m\n\u001b[1;37m    ^\u001b[0m\n\u001b[1;31mIndentationError\u001b[0m\u001b[1;31m:\u001b[0m unexpected indent\n"
     ]
    }
   ],
   "source": [
    "\n",
    "name = input(\"Enter your name: \")\n",
    "age = int(input(\"Enter your age: \"))            \n",
    "height = float(input(\"Enter your height (in cm): \"))  \n",
    "fav_num = int(input(\"Enter your favourite number: \"))\n",
    "\n",
    "\n",
    "birth_year = 2025 - age\n",
    "\n",
    "\n",
    "\n",
    "    \"Name\": name,\n",
    "    \"Age\": age,\n",
    "    \"Height\": height,\n",
    "    \"Favourite Number\": fav_num,\n",
    "    \"Birth Year\": birth_year\n",
    "\n",
    "print(\"Variable Summary:\")\n"
   ]
  },
  {
   "cell_type": "code",
   "execution_count": 10,
   "id": "eb7d01cd-f66b-4d0e-98be-d74290069e1e",
   "metadata": {},
   "outputs": [
    {
     "name": "stdin",
     "output_type": "stream",
     "text": [
      "Enter your name:  om\n",
      "Enter your age:  19\n",
      "Enter your height (in cm):  5.7\n",
      "Enter your favourite number:  11\n"
     ]
    },
    {
     "ename": "NameError",
     "evalue": "name 'birth_year' is not defined",
     "output_type": "error",
     "traceback": [
      "\u001b[1;31m---------------------------------------------------------------------------\u001b[0m",
      "\u001b[1;31mNameError\u001b[0m                                 Traceback (most recent call last)",
      "Cell \u001b[1;32mIn[10], line 11\u001b[0m\n\u001b[0;32m      3\u001b[0m height \u001b[38;5;241m=\u001b[39m \u001b[38;5;28mfloat\u001b[39m(\u001b[38;5;28minput\u001b[39m(\u001b[38;5;124m\"\u001b[39m\u001b[38;5;124mEnter your height (in cm): \u001b[39m\u001b[38;5;124m\"\u001b[39m))  \n\u001b[0;32m      4\u001b[0m fav_num \u001b[38;5;241m=\u001b[39m \u001b[38;5;28mint\u001b[39m(\u001b[38;5;28minput\u001b[39m(\u001b[38;5;124m\"\u001b[39m\u001b[38;5;124mEnter your favourite number: \u001b[39m\u001b[38;5;124m\"\u001b[39m))\n\u001b[0;32m      6\u001b[0m variables \u001b[38;5;241m=\u001b[39m {\n\u001b[0;32m      7\u001b[0m     \u001b[38;5;124m\"\u001b[39m\u001b[38;5;124mName\u001b[39m\u001b[38;5;124m\"\u001b[39m: name,\n\u001b[0;32m      8\u001b[0m     \u001b[38;5;124m\"\u001b[39m\u001b[38;5;124mAge\u001b[39m\u001b[38;5;124m\"\u001b[39m: age,\n\u001b[0;32m      9\u001b[0m     \u001b[38;5;124m\"\u001b[39m\u001b[38;5;124mHeight\u001b[39m\u001b[38;5;124m\"\u001b[39m: height,\n\u001b[0;32m     10\u001b[0m     \u001b[38;5;124m\"\u001b[39m\u001b[38;5;124mFavourite Number\u001b[39m\u001b[38;5;124m\"\u001b[39m: fav_num,\n\u001b[1;32m---> 11\u001b[0m     \u001b[38;5;124m\"\u001b[39m\u001b[38;5;124mBirth Year\u001b[39m\u001b[38;5;124m\"\u001b[39m: birth_year\n\u001b[0;32m     12\u001b[0m }\n\u001b[0;32m     13\u001b[0m \u001b[38;5;28mprint\u001b[39m(\u001b[38;5;124m\"\u001b[39m\u001b[38;5;124mVariable Summary:\u001b[39m\u001b[38;5;124m\"\u001b[39m)\n",
      "\u001b[1;31mNameError\u001b[0m: name 'birth_year' is not defined"
     ]
    }
   ],
   "source": [
    "name = input(\"Enter your name: \")\n",
    "age = int(input(\"Enter your age: \"))            \n",
    "height = float(input(\"Enter your height (in cm): \"))  \n",
    "fav_num = int(input(\"Enter your favourite number: \"))\n",
    "\n",
    "variables = {\n",
    "    \"Name\": name,\n",
    "    \"Age\": age,\n",
    "    \"Height\": height,\n",
    "    \"Favourite Number\": fav_num,\n",
    "    \"Birth Year\": birth_year\n",
    "}\n",
    "print(\"Variable Summary:\")\n"
   ]
  },
  {
   "cell_type": "code",
   "execution_count": null,
   "id": "f1178b55-285e-4793-9888-7fb3993a7ff5",
   "metadata": {},
   "outputs": [],
   "source": []
  }
 ],
 "metadata": {
  "kernelspec": {
   "display_name": "Python [conda env:base] *",
   "language": "python",
   "name": "conda-base-py"
  },
  "language_info": {
   "codemirror_mode": {
    "name": "ipython",
    "version": 3
   },
   "file_extension": ".py",
   "mimetype": "text/x-python",
   "name": "python",
   "nbconvert_exporter": "python",
   "pygments_lexer": "ipython3",
   "version": "3.13.5"
  }
 },
 "nbformat": 4,
 "nbformat_minor": 5
}
