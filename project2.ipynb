{
 "cells": [
  {
   "cell_type": "code",
   "execution_count": 1,
   "id": "09d03223-3101-41c3-84b8-e68aec7b0636",
   "metadata": {},
   "outputs": [
    {
     "name": "stdout",
     "output_type": "stream",
     "text": [
      "\n",
      "Menu:\n",
      "1. Generate Pattern\n",
      "2. Number Analyzer\n",
      "3. Exit\n"
     ]
    },
    {
     "name": "stdin",
     "output_type": "stream",
     "text": [
      "Enter choice:  3\n"
     ]
    },
    {
     "name": "stdout",
     "output_type": "stream",
     "text": [
      "code terminetet!\n"
     ]
    }
   ],
   "source": [
    "while True:\n",
    "    print(\"\\nMenu:\")\n",
    "    print(\"1. Generate Pattern\")\n",
    "    print(\"2. Number Analyzer\")\n",
    "    print(\"3. Exit\")\n",
    "\n",
    "    choice = input(\"Enter choice: \")\n",
    "\n",
    "    if choice == \"1\":\n",
    "        rows = int(input(\"Enter number of rows: \"))\n",
    "        \n",
    "        for i in range(1, rows + 1):\n",
    "            for j in range(i):\n",
    "                print(\"*\", end=\" \")\n",
    "            print()\n",
    "    elif choice == \"2\":\n",
    "        start = int(input(\"Enter start: \"))\n",
    "        end = int(input(\"Enter end: \"))\n",
    "        total = 0\n",
    "        for num in range(start, end + 1):\n",
    "            if num == 13:   \n",
    "                continue\n",
    "            if num > 100:   \n",
    "                break\n",
    "            if num % 2 == 0:\n",
    "                print(num, \"is Even\")\n",
    "            else:\n",
    "                print(num, \"is Odd\")\n",
    "            total += num\n",
    "        print(\"Sum is:\", total)\n",
    "    elif choice == \"3\":\n",
    "        print(\"code terminet!\")\n",
    "        break\n",
    "    else:\n",
    "        pass "
   ]
  },
  {
   "cell_type": "code",
   "execution_count": null,
   "id": "7d17f453-f6c1-432c-bae6-4cebe523e4bd",
   "metadata": {},
   "outputs": [],
   "source": []
  }
 ],
 "metadata": {
  "kernelspec": {
   "display_name": "Python [conda env:base] *",
   "language": "python",
   "name": "conda-base-py"
  },
  "language_info": {
   "codemirror_mode": {
    "name": "ipython",
    "version": 3
   },
   "file_extension": ".py",
   "mimetype": "text/x-python",
   "name": "python",
   "nbconvert_exporter": "python",
   "pygments_lexer": "ipython3",
   "version": "3.13.5"
  }
 },
 "nbformat": 4,
 "nbformat_minor": 5
}
